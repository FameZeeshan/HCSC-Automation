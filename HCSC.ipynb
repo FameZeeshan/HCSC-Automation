{
 "cells": [
  {
   "cell_type": "code",
   "execution_count": null,
   "id": "6f1e1506",
   "metadata": {},
   "outputs": [],
   "source": [
    "print(\"This is a automation file created to prepare Head count Seat Count report\")"
   ]
  },
  {
   "cell_type": "code",
   "execution_count": null,
   "id": "82c98b23",
   "metadata": {},
   "outputs": [],
   "source": [
    "# one time run this code with anaconda3/python.exe kernal. This will install required library if not installed already\n",
    "# !pip install pandas pyxlsb\n"
   ]
  },
  {
   "cell_type": "code",
   "execution_count": null,
   "id": "9cd59bc9",
   "metadata": {},
   "outputs": [],
   "source": [
    "# first save the PS dump with file name PS_Dump.xlsx"
   ]
  },
  {
   "cell_type": "code",
   "execution_count": null,
   "id": "3e8bc368",
   "metadata": {},
   "outputs": [],
   "source": [
    "# import pandas as pd\n",
    "# import openpyxl\n",
    "# from openpyxl.worksheet.datavalidation import DataValidation\n",
    "\n",
    "# def create_pivot_table(input_xlsx_path):\n",
    "#     try:\n",
    "#         # Read the data from the .xlsx file into a pandas DataFrame\n",
    "#         df = pd.read_excel(input_xlsx_path)\n",
    "\n",
    "#         # Create the pivot table using the pandas pivot_table function\n",
    "#         pivot_table = pd.pivot_table(df, values='EmployeeID', index=['OperatingUnit'], columns=['WFM_Billability'], aggfunc='sum')\n",
    "\n",
    "#         # Load the existing workbook using openpyxl\n",
    "#         workbook = openpyxl.load_workbook(input_xlsx_path)\n",
    "\n",
    "#         # Create a new sheet for the pivot table\n",
    "#         new_sheet_name = 'pivot_table_1'\n",
    "#         sheet = workbook.create_sheet(title=new_sheet_name)\n",
    "\n",
    "#         # Write the pivot table DataFrame to the new sheet\n",
    "#         for r_idx, row in enumerate(pivot_table.iterrows(), start=2):\n",
    "#             sheet.cell(row=r_idx, column=1, value=row[0])  # Write the OperatingUnit\n",
    "#             for c_idx, value in enumerate(row[1], start=2):\n",
    "#                 sheet.cell(row=r_idx, column=c_idx, value=value)  # Write the pivot table values\n",
    "\n",
    "#         # Set the column and row labels for the pivot table\n",
    "#         sheet.cell(row=1, column=2, value='WFM_Billability')\n",
    "#         sheet.cell(row=1, column=1, value='OperatingUnit')\n",
    "\n",
    "#         # Add DataValidation for filter options\n",
    "#         dv = DataValidation(type=\"list\", formula1='\"IND01,IND02\"', showDropDown=True)\n",
    "#         sheet.add_data_validation(dv)\n",
    "#         dv.add(sheet[\"B1\"])  # DataValidation for EmployeeBU filter\n",
    "\n",
    "#         # Save the changes\n",
    "#         workbook.save(input_xlsx_path)\n",
    "\n",
    "#         print(f\"Pivot table created and saved to sheet '{new_sheet_name}' in the existing Excel file (PS_Dump.xlsx).\")\n",
    "#     except FileNotFoundError:\n",
    "#         print(f\"File '{input_xlsx_path}' not found. Please provide the correct file path.\")\n",
    "#     except Exception as e:\n",
    "#         print(f\"An error occurred: {e}\")\n",
    "\n",
    "# # Provide the path to your input .xlsx file\n",
    "# input_xlsx_path = './PS_Dump.xlsx'\n",
    "\n",
    "# # Create the pivot table and save it to a new sheet with filter options in the existing Excel file (PS_Dump.xlsx)\n",
    "# create_pivot_table(input_xlsx_path)\n"
   ]
  },
  {
   "cell_type": "code",
   "execution_count": null,
   "id": "2486d3f5",
   "metadata": {},
   "outputs": [],
   "source": [
    "import pandas as pd\n",
    "df = pd.read_excel(\"PS_Dump.xlsx\")\n"
   ]
  },
  {
   "cell_type": "code",
   "execution_count": null,
   "id": "9ae74f01",
   "metadata": {},
   "outputs": [],
   "source": [
    "# Filter the DataFrame to include only \"IND01\" and \"IND02\" in the \"EmployeeBU\" column\n",
    "filtered_df = df.query('EmployeeBU in [\"IND01\", \"IND02\"]')\n",
    "\n",
    "# Pivot the filtered DataFrame with aggregation using pivot_table\n",
    "pivot_table = pd.pivot_table(filtered_df, index=\"OperatingUnit\", columns=\"WFM_Billability\", values=\"EmployeeID\", margins=True, aggfunc=\"count\")\n",
    "\n",
    "# Save the pivot_table to a new worksheet in a different Excel file\n",
    "output_file_path = \"Pivot_Table.xlsx\"\n",
    "with pd.ExcelWriter(output_file_path, engine=\"openpyxl\") as writer:\n",
    "    pivot_table.to_excel(writer, sheet_name=\"pivot_table_1\")\n",
    "\n",
    "print(f\"Pivot table saved to sheet 'pivot_table_1' in the Excel file: {output_file_path}\")"
   ]
  },
  {
   "cell_type": "code",
   "execution_count": null,
   "id": "74c7d77d",
   "metadata": {},
   "outputs": [],
   "source": [
    "# Filter the DataFrame to include only \"IND01\" and \"IND02\" in the \"EmployeeBU\" column\n",
    "filtered_df = df.query('EmployeeBU in [\"IND01\", \"IND02\",\"IND03\"]')\n",
    "\n",
    "# Pivot the filtered DataFrame with aggregation using pivot_table\n",
    "pivot_table = pd.pivot_table(filtered_df, index=\"OperatingUnit\", columns=\"WFM_Billability\", values=\"EmployeeID\", margins=True, aggfunc=\"count\")\n",
    "\n",
    "# Save the pivot_table to a new worksheet in the existing Excel file (Pivot_Table.xlsx)\n",
    "output_file_path = \"Pivot_Table.xlsx\"\n",
    "sheet_name = \"pivot_table_2\"\n",
    "with pd.ExcelWriter(output_file_path, engine=\"openpyxl\", mode=\"a\") as writer:\n",
    "    pivot_table.to_excel(writer, sheet_name=sheet_name)\n",
    "\n",
    "print(f\"Pivot table saved to sheet '{sheet_name}' in the Excel file: {output_file_path}\")"
   ]
  },
  {
   "cell_type": "code",
   "execution_count": null,
   "id": "970a3cce",
   "metadata": {},
   "outputs": [],
   "source": []
  }
 ],
 "metadata": {
  "kernelspec": {
   "display_name": "Python 3 (ipykernel)",
   "language": "python",
   "name": "python3"
  },
  "language_info": {
   "codemirror_mode": {
    "name": "ipython",
    "version": 3
   },
   "file_extension": ".py",
   "mimetype": "text/x-python",
   "name": "python",
   "nbconvert_exporter": "python",
   "pygments_lexer": "ipython3",
   "version": "3.10.9"
  }
 },
 "nbformat": 4,
 "nbformat_minor": 5
}
